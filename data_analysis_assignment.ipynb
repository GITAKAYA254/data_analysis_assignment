{
 "cells": [
  {
   "cell_type": "markdown",
   "metadata": {},
   "source": [
    "# 📊 Data Analysis and Visualization Assignment\n",
    "\n",
    "## Objective\n",
    "- Load and analyze a dataset using **pandas**.\n",
    "- Perform simple data exploration and cleaning.\n",
    "- Create plots using **matplotlib** and **seaborn**.\n",
    "- Document findings and observations.\n"
   ]
  },
  {
   "cell_type": "markdown",
   "metadata": {},
   "source": [
    "## Task 1: Load and Explore the Dataset\n",
    "We will use the **Iris dataset**, a classic dataset for classification problems.\n"
   ]
  },
  {
   "cell_type": "code",
   "execution_count": 2,
   "metadata": {},
   "outputs": [
    {
     "ename": "ModuleNotFoundError",
     "evalue": "No module named 'sklearn'",
     "output_type": "error",
     "traceback": [
      "\u001b[31m---------------------------------------------------------------------------\u001b[39m",
      "\u001b[31mModuleNotFoundError\u001b[39m                       Traceback (most recent call last)",
      "\u001b[36mCell\u001b[39m\u001b[36m \u001b[39m\u001b[32mIn[2]\u001b[39m\u001b[32m, line 4\u001b[39m\n\u001b[32m      2\u001b[39m \u001b[38;5;28;01mimport\u001b[39;00m\u001b[38;5;250m \u001b[39m\u001b[34;01mmatplotlib\u001b[39;00m\u001b[34;01m.\u001b[39;00m\u001b[34;01mpyplot\u001b[39;00m\u001b[38;5;250m \u001b[39m\u001b[38;5;28;01mas\u001b[39;00m\u001b[38;5;250m \u001b[39m\u001b[34;01mplt\u001b[39;00m\n\u001b[32m      3\u001b[39m \u001b[38;5;28;01mimport\u001b[39;00m\u001b[38;5;250m \u001b[39m\u001b[34;01mseaborn\u001b[39;00m\u001b[38;5;250m \u001b[39m\u001b[38;5;28;01mas\u001b[39;00m\u001b[38;5;250m \u001b[39m\u001b[34;01msns\u001b[39;00m\n\u001b[32m----> \u001b[39m\u001b[32m4\u001b[39m \u001b[38;5;28;01mfrom\u001b[39;00m\u001b[38;5;250m \u001b[39m\u001b[34;01msklearn\u001b[39;00m\u001b[34;01m.\u001b[39;00m\u001b[34;01mdatasets\u001b[39;00m\u001b[38;5;250m \u001b[39m\u001b[38;5;28;01mimport\u001b[39;00m load_iris\n\u001b[32m      6\u001b[39m \u001b[38;5;66;03m# Make plots look nicer\u001b[39;00m\n\u001b[32m      7\u001b[39m sns.set(style=\u001b[33m\"\u001b[39m\u001b[33mwhitegrid\u001b[39m\u001b[33m\"\u001b[39m)\n",
      "\u001b[31mModuleNotFoundError\u001b[39m: No module named 'sklearn'"
     ]
    }
   ],
   "source": [
    "import pandas as pd\n",
    "import matplotlib.pyplot as plt\n",
    "import seaborn as sns\n",
    "from sklearn.datasets import load_iris\n",
    "\n",
    "# Make plots look nicer\n",
    "sns.set(style=\"whitegrid\")\n",
    "\n",
    "# Load dataset\n",
    "iris = load_iris(as_frame=True)\n",
    "df = iris.frame\n",
    "df.head()"
   ]
  },
  {
   "cell_type": "code",
   "execution_count": null,
   "metadata": {},
   "outputs": [],
   "source": [
    "# Inspect dataset structure\n",
    "print(\"\\nDataset Info:\")\n",
    "print(df.info())\n",
    "\n",
    "print(\"\\nMissing values:\")\n",
    "print(df.isnull().sum())\n",
    "\n",
    "# Drop missing values if any\n",
    "df = df.dropna()"
   ]
  },
  {
   "cell_type": "markdown",
   "metadata": {},
   "source": [
    "## Task 2: Basic Data Analysis\n",
    "We compute summary statistics and perform a grouping operation.\n"
   ]
  },
  {
   "cell_type": "code",
   "execution_count": null,
   "metadata": {},
   "outputs": [],
   "source": [
    "# Basic statistics\n",
    "df.describe()"
   ]
  },
  {
   "cell_type": "code",
   "execution_count": null,
   "metadata": {},
   "outputs": [],
   "source": [
    "# Grouping: mean petal length per species\n",
    "grouped = df.groupby(\"target\")[\"petal length (cm)\"].mean()\n",
    "grouped"
   ]
  },
  {
   "cell_type": "markdown",
   "metadata": {},
   "source": [
    "## Task 3: Data Visualization\n",
    "We will create four different plots:\n",
    "1. Line chart\n",
    "2. Bar chart\n",
    "3. Histogram\n",
    "4. Scatter plot\n"
   ]
  },
  {
   "cell_type": "code",
   "execution_count": null,
   "metadata": {},
   "outputs": [],
   "source": [
    "# 1. Line chart - Cumulative petal length\n",
    "df[\"cumulative_petal_length\"] = df[\"petal length (cm)\"].cumsum()\n",
    "plt.figure(figsize=(8,5))\n",
    "plt.plot(df.index, df[\"cumulative_petal_length\"], label=\"Cumulative Petal Length\")\n",
    "plt.title(\"Line Chart - Cumulative Petal Length\")\n",
    "plt.xlabel(\"Index\")\n",
    "plt.ylabel(\"Cumulative Petal Length\")\n",
    "plt.legend()\n",
    "plt.show()"
   ]
  },
  {
   "cell_type": "code",
   "execution_count": null,
   "metadata": {},
   "outputs": [],
   "source": [
    "# 2. Bar chart - Average petal length per species\n",
    "plt.figure(figsize=(8,5))\n",
    "grouped.plot(kind=\"bar\", color=[\"skyblue\", \"lightgreen\", \"salmon\"])\n",
    "plt.title(\"Bar Chart - Average Petal Length per Species\")\n",
    "plt.xlabel(\"Species\")\n",
    "plt.ylabel(\"Average Petal Length\")\n",
    "plt.show()"
   ]
  },
  {
   "cell_type": "code",
   "execution_count": null,
   "metadata": {},
   "outputs": [],
   "source": [
    "# 3. Histogram - Sepal Length Distribution\n",
    "plt.figure(figsize=(8,5))\n",
    "plt.hist(df[\"sepal length (cm)\"], bins=15, color=\"purple\", edgecolor=\"black\")\n",
    "plt.title(\"Histogram - Sepal Length Distribution\")\n",
    "plt.xlabel(\"Sepal Length (cm)\")\n",
    "plt.ylabel(\"Frequency\")\n",
    "plt.show()"
   ]
  },
  {
   "cell_type": "code",
   "execution_count": null,
   "metadata": {},
   "outputs": [
    {
     "ename": "NameError",
     "evalue": "name 'plt' is not defined",
     "output_type": "error",
     "traceback": [
      "\u001b[31m---------------------------------------------------------------------------\u001b[39m",
      "\u001b[31mNameError\u001b[39m                                 Traceback (most recent call last)",
      "\u001b[36mCell\u001b[39m\u001b[36m \u001b[39m\u001b[32mIn[1]\u001b[39m\u001b[32m, line 2\u001b[39m\n\u001b[32m      1\u001b[39m \u001b[38;5;66;03m# 4. Scatter plot - Sepal Length vs Petal Length\u001b[39;00m\n\u001b[32m----> \u001b[39m\u001b[32m2\u001b[39m \u001b[43mplt\u001b[49m.figure(figsize=(\u001b[32m8\u001b[39m,\u001b[32m5\u001b[39m))\n\u001b[32m      3\u001b[39m sns.scatterplot(\n\u001b[32m      4\u001b[39m     x=\u001b[33m\"\u001b[39m\u001b[33msepal length (cm)\u001b[39m\u001b[33m\"\u001b[39m, \n\u001b[32m      5\u001b[39m     y=\u001b[33m\"\u001b[39m\u001b[33mpetal length (cm)\u001b[39m\u001b[33m\"\u001b[39m, \n\u001b[32m   (...)\u001b[39m\u001b[32m      8\u001b[39m     data=df\n\u001b[32m      9\u001b[39m )\n\u001b[32m     10\u001b[39m plt.title(\u001b[33m\"\u001b[39m\u001b[33mScatter Plot - Sepal Length vs Petal Length\u001b[39m\u001b[33m\"\u001b[39m)\n",
      "\u001b[31mNameError\u001b[39m: name 'plt' is not defined"
     ]
    }
   ],
   "source": [
    "# 4. Scatter plot - Sepal Length vs Petal Length\n",
    "plt.figure(figsize=(8,5))\n",
    "sns.scatterplot(\n",
    "    x=\"sepal length (cm)\", \n",
    "    y=\"petal length (cm)\", \n",
    "    hue=\"target\", \n",
    "    palette=\"deep\", \n",
    "    data=df\n",
    ")\n",
    "plt.title(\"Scatter Plot - Sepal Length vs Petal Length\")\n",
    "plt.xlabel(\"Sepal Length (cm)\")\n",
    "plt.ylabel(\"Petal Length (cm)\")\n",
    "plt.legend(title=\"Species\")\n",
    "plt.show()"
   ]
  },
  {
   "cell_type": "markdown",
   "metadata": {},
   "source": [
    "## Findings / Observations\n",
    "- Different species show distinct average petal lengths, which is useful for classification.\n",
    "- Sepal length distribution is fairly normal.\n",
    "- Scatter plot reveals clear separation between species based on petal and sepal lengths.\n",
    "- The cumulative line chart increases steadily as expected.\n"
   ]
  }
 ],
 "metadata": {
  "kernelspec": {
   "display_name": "Python 3",
   "language": "python",
   "name": "python3"
  },
  "language_info": {
   "codemirror_mode": {
    "name": "ipython",
    "version": 3
   },
   "file_extension": ".py",
   "mimetype": "text/x-python",
   "name": "python",
   "nbconvert_exporter": "python",
   "pygments_lexer": "ipython3",
   "version": "3.12.5"
  }
 },
 "nbformat": 4,
 "nbformat_minor": 5
}
